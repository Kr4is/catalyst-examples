{
 "cells": [
  {
   "cell_type": "markdown",
   "metadata": {},
   "source": [
    "# Segmentation"
   ]
  },
  {
   "cell_type": "markdown",
   "metadata": {},
   "source": [
    "If you have Unet, all CV is segmentation now."
   ]
  },
  {
   "cell_type": "markdown",
   "metadata": {},
   "source": [
    "## Goals\n",
    "\n",
    "- train Unet on isbi dataset\n",
    "- visualize the predictions"
   ]
  },
  {
   "cell_type": "markdown",
   "metadata": {},
   "source": [
    "# Preparation"
   ]
  },
  {
   "cell_type": "markdown",
   "metadata": {},
   "source": [
    "Get the [data](https://www.dropbox.com/s/0rvuae4mj6jn922/isbi.tar.gz) and unpack it to `catalyst-examples/data` folder:\n",
    "```bash\n",
    "catalyst-examples/\n",
    "    data/\n",
    "        isbi/\n",
    "            train-volume.tif\n",
    "            train-labels.tif\n",
    "```"
   ]
  },
  {
   "cell_type": "markdown",
   "metadata": {},
   "source": [
    "# Data"
   ]
  },
  {
   "cell_type": "code",
   "execution_count": null,
   "metadata": {},
   "outputs": [],
   "source": [
    "# ! pip install tifffile"
   ]
  },
  {
   "cell_type": "code",
   "execution_count": null,
   "metadata": {},
   "outputs": [],
   "source": [
    "import tifffile as tiff\n",
    "\n",
    "images = tiff.imread('./data/isbi/train-volume.tif')\n",
    "masks = tiff.imread('./data/isbi/train-labels.tif')\n",
    "\n",
    "data = list(zip(images, masks))\n",
    "\n",
    "train_data = data[:-4]\n",
    "valid_data = data[-4:]"
   ]
  },
  {
   "cell_type": "code",
   "execution_count": null,
   "metadata": {},
   "outputs": [],
   "source": [
    "import collections\n",
    "import numpy as np\n",
    "import torch\n",
    "import torchvision\n",
    "import torchvision.transforms as transforms\n",
    "from catalyst.data.augmentor import Augmentor\n",
    "from catalyst.utils.factory import UtilsFactory\n",
    "\n",
    "bs = 4\n",
    "n_workers = 4\n",
    "\n",
    "data_transform = transforms.Compose([\n",
    "    Augmentor(\n",
    "        dict_key=\"features\",\n",
    "        augment_fn=lambda x: \\\n",
    "            torch.from_numpy(x.copy().astype(np.float32) / 255.).unsqueeze_(0)),\n",
    "    Augmentor(\n",
    "        dict_key=\"features\",\n",
    "        augment_fn=transforms.Normalize(\n",
    "            (0.5, 0.5, 0.5),\n",
    "            (0.5, 0.5, 0.5))),\n",
    "    Augmentor(\n",
    "        dict_key=\"targets\",\n",
    "        augment_fn=lambda x: \\\n",
    "            torch.from_numpy(x.copy().astype(np.float32) / 255.).unsqueeze_(0))\n",
    "])\n",
    "\n",
    "open_fn = lambda x: {\"features\": x[0], \"targets\": x[1]}\n",
    "\n",
    "loaders = collections.OrderedDict()\n",
    "\n",
    "train_loader = UtilsFactory.create_loader(\n",
    "    train_data, \n",
    "    open_fn=open_fn, \n",
    "    dict_transform=data_transform, \n",
    "    batch_size=bs, \n",
    "    workers=n_workers, \n",
    "    shuffle=True)\n",
    "\n",
    "valid_loader = UtilsFactory.create_loader(\n",
    "    valid_data, \n",
    "    open_fn=open_fn, \n",
    "    dict_transform=data_transform, \n",
    "    batch_size=bs, \n",
    "    workers=n_workers, \n",
    "    shuffle=False)\n",
    "\n",
    "loaders[\"train\"] = train_loader\n",
    "loaders[\"valid\"] = valid_loader"
   ]
  },
  {
   "cell_type": "markdown",
   "metadata": {},
   "source": [
    "# Model"
   ]
  },
  {
   "cell_type": "code",
   "execution_count": null,
   "metadata": {},
   "outputs": [],
   "source": [
    "from catalyst.models.segmentation import UNet"
   ]
  },
  {
   "cell_type": "markdown",
   "metadata": {},
   "source": [
    "# Model, criterion, optimizer"
   ]
  },
  {
   "cell_type": "code",
   "execution_count": null,
   "metadata": {},
   "outputs": [],
   "source": [
    "import torch\n",
    "import torch.nn as nn\n",
    "\n",
    "model = UNet(num_classes=1, in_channels=1, num_filters=64, num_blocks=4)\n",
    "criterion = nn.BCEWithLogitsLoss()\n",
    "optimizer = torch.optim.Adam(model.parameters(), lr=1e-3)\n",
    "# scheduler = None  # for OneCycle usage\n",
    "scheduler = torch.optim.lr_scheduler.MultiStepLR(optimizer, milestones=[10, 20, 40], gamma=0.3)\n",
    "# scheduler = torch.optim.lr_scheduler.ReduceLROnPlateau(optimizer, factor=0.5, patience=2, verbose=True)"
   ]
  },
  {
   "cell_type": "markdown",
   "metadata": {},
   "source": [
    "# Callbacks"
   ]
  },
  {
   "cell_type": "code",
   "execution_count": null,
   "metadata": {},
   "outputs": [],
   "source": [
    "import collections\n",
    "from catalyst.dl.callbacks import (\n",
    "    ClassificationLossCallback, \n",
    "    BaseMetrics, Logger, TensorboardLogger,\n",
    "    OptimizerCallback, SchedulerCallback, CheckpointCallback, \n",
    "    PrecisionCallback, OneCycleLR)\n",
    "\n",
    "n_epochs = 50\n",
    "logdir = \"./logs/segmentation_notebook\"\n",
    "\n",
    "callbacks = collections.OrderedDict()\n",
    "\n",
    "callbacks[\"loss\"] = ClassificationLossCallback()\n",
    "callbacks[\"optimizer\"] = OptimizerCallback()\n",
    "callbacks[\"metrics\"] = BaseMetrics()\n",
    "\n",
    "# OneCylce custom scheduler callback\n",
    "callbacks[\"scheduler\"] = OneCycleLR(\n",
    "    cycle_len=n_epochs,\n",
    "    div=3, cut_div=4, momentum_range=(0.95, 0.85))\n",
    "\n",
    "# Pytorch scheduler callback\n",
    "# callbacks[\"scheduler\"] = SchedulerCallback(\n",
    "#     reduce_metric=\"loss_main\")\n",
    "\n",
    "callbacks[\"saver\"] = CheckpointCallback()\n",
    "callbacks[\"logger\"] = Logger()\n",
    "callbacks[\"tflogger\"] = TensorboardLogger()"
   ]
  },
  {
   "cell_type": "markdown",
   "metadata": {},
   "source": [
    "# Train"
   ]
  },
  {
   "cell_type": "code",
   "execution_count": null,
   "metadata": {
    "scrolled": true
   },
   "outputs": [],
   "source": [
    "from catalyst.dl.runner import ClassificationRunner\n",
    "\n",
    "runner = ClassificationRunner(\n",
    "    model=model, \n",
    "    criterion=criterion, \n",
    "    optimizer=optimizer, \n",
    "    scheduler=scheduler)\n",
    "runner.train(\n",
    "    loaders=loaders, \n",
    "    callbacks=callbacks, \n",
    "    logdir=logdir,\n",
    "    epochs=n_epochs, verbose=True)"
   ]
  },
  {
   "cell_type": "markdown",
   "metadata": {},
   "source": [
    "# Inference"
   ]
  },
  {
   "cell_type": "code",
   "execution_count": null,
   "metadata": {},
   "outputs": [],
   "source": [
    "from catalyst.dl.callbacks import InferCallback"
   ]
  },
  {
   "cell_type": "code",
   "execution_count": null,
   "metadata": {},
   "outputs": [],
   "source": [
    "callbacks = collections.OrderedDict()\n",
    "\n",
    "callbacks[\"saver\"] = CheckpointCallback(\n",
    "    resume=f\"{logdir}/checkpoint.best.pth.tar\")\n",
    "callbacks[\"infer\"] = InferCallback()"
   ]
  },
  {
   "cell_type": "code",
   "execution_count": null,
   "metadata": {},
   "outputs": [],
   "source": [
    "loaders = collections.OrderedDict()\n",
    "\n",
    "loaders[\"infer\"] = UtilsFactory.create_loader(\n",
    "    valid_data, \n",
    "    open_fn=open_fn, \n",
    "    dict_transform=data_transform, \n",
    "    batch_size=bs, \n",
    "    workers=n_workers, \n",
    "    shuffle=False)"
   ]
  },
  {
   "cell_type": "code",
   "execution_count": null,
   "metadata": {},
   "outputs": [],
   "source": [
    "runner.infer(\n",
    "    loaders=loaders, \n",
    "    callbacks=callbacks, \n",
    "    verbose=True)"
   ]
  },
  {
   "cell_type": "markdown",
   "metadata": {},
   "source": [
    "# Predictions visualization"
   ]
  },
  {
   "cell_type": "code",
   "execution_count": null,
   "metadata": {},
   "outputs": [],
   "source": [
    "import matplotlib.pyplot as plt\n",
    "plt.style.use(\"ggplot\")\n",
    "%matplotlib inline"
   ]
  },
  {
   "cell_type": "code",
   "execution_count": null,
   "metadata": {},
   "outputs": [],
   "source": [
    "sigmoid = lambda x: 1/(1 + np.exp(-x))\n",
    "\n",
    "for i, (input, output) in enumerate(zip(\n",
    "        valid_data, callbacks[\"infer\"].predictions[\"logits\"])):\n",
    "    image, mask = input\n",
    "    \n",
    "    threshold = 0.5\n",
    "    \n",
    "    plt.figure(figsize=(10,8))\n",
    "    \n",
    "    plt.subplot(1, 3, 1)\n",
    "    plt.imshow(image, 'gray')\n",
    "    \n",
    "    plt.subplot(1, 3, 2)\n",
    "    output = sigmoid(output[0].copy())\n",
    "    output = (output > threshold).astype(np.uint8)\n",
    "    plt.imshow(output, 'gray')\n",
    "    \n",
    "    plt.subplot(1, 3, 3)\n",
    "    plt.imshow(mask, 'gray')\n",
    "    \n",
    "    plt.show()"
   ]
  },
  {
   "cell_type": "code",
   "execution_count": null,
   "metadata": {},
   "outputs": [],
   "source": []
  }
 ],
 "metadata": {
  "kernelspec": {
   "display_name": "Python [default]",
   "language": "python",
   "name": "python3"
  },
  "language_info": {
   "codemirror_mode": {
    "name": "ipython",
    "version": 3
   },
   "file_extension": ".py",
   "mimetype": "text/x-python",
   "name": "python",
   "nbconvert_exporter": "python",
   "pygments_lexer": "ipython3",
   "version": "3.6.4"
  }
 },
 "nbformat": 4,
 "nbformat_minor": 2
}
